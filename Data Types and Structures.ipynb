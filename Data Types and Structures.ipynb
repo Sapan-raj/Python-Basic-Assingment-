{
  "nbformat": 4,
  "nbformat_minor": 0,
  "metadata": {
    "colab": {
      "provenance": []
    },
    "kernelspec": {
      "name": "python3",
      "display_name": "Python 3"
    },
    "language_info": {
      "name": "python"
    }
  },
  "cells": [
    {
      "cell_type": "markdown",
      "source": [
        "#Data Types and Structures Questions"
      ],
      "metadata": {
        "id": "eQDT1oZISnFW"
      }
    },
    {
      "cell_type": "markdown",
      "source": [
        "1. What are data structures, and why are they important?\n",
        "-> Data structures are ways of organizing and storing data so that they can be accessed and worked with efficiently. They are important because they provide a means to manage large amounts of data efficiently for uses such as large databases and internet indexing\n",
        "\n",
        "2. Explain the difference between mutable and immutable data types with examples.\n",
        "-> Mutable data types can be changed after their creation, while immutable data types cannot. Examples of mutable data types include lists and dictionaries, while examples of immutable data types include strings and tuples.\n",
        "\n",
        "3. What are the main differences between lists and tuples in Python?\n",
        "-> The main differences are: lists are mutable, whereas tuples are immutable; lists have variable length, whereas tuples have fixed length; lists have more built-in methods than tuples\n",
        "\n",
        "4. Describe how dictionaries store data.\n",
        "-> Dictionaries store data in key-value pairs. Each key is unique and is used to access its corresponding value.\n",
        "\n",
        "5. Why might you use a set instead of a list in Python?\n",
        "-> Sets are used when you need to ensure that all elements are unique. They also provide faster membership testing compared to lists\n",
        "\n",
        "6. What is a string in Python, and how is it different from a list?\n",
        "-> A string is a sequence of characters, while a list is a sequence of elements that can be of any type. Strings are immutable, whereas lists are mutable.\n",
        "\n",
        "7. How do tuples ensure data integrity in Python?\n",
        "-> Tuples ensure data integrity by being immutable, meaning their elements cannot be changed after creation.\n",
        "\n",
        "8. What is a hash table, and how does it relate to dictionaries in Python?\n",
        "-> A hash table is a data structure that maps keys to values using a hash function. In Python, dictionaries are implemented using hash tables.\n",
        "\n",
        "9. Can lists contain different data types in Python?\n",
        "-> Yes, lists can contain elements of different data types\n",
        "\n",
        "10. Explain why strings are immutable in Python\n",
        "-> Strings are immutable to ensure that they can be used as keys in dictionaries and elements in sets, which require their elements to be hashable and unchangeable.\n",
        "\n",
        "11. What advantages do dictionaries offer over lists for certain tasks?\n",
        "-> Dictionaries offer faster lookups for keys compared to lists. They also provide a way to associate related pieces of information using key-value pairs.\n",
        "\n",
        "12. Describe a scenario where using a tuple would be preferable over a list.\n",
        "-> Using a tuple would be preferable when you need an ordered collection of elements that should not change throughout the program, such as coordinates or fixed configuration settings.\n",
        "\n",
        "13. How do sets handle duplicate values in Python?\n",
        "-> Sets automatically remove duplicate values, ensuring that all elements are unique.\n",
        "\n",
        "14. How does the “in” keyword work differently for lists and dictionaries?\n",
        "-> For lists, the 'in' keyword checks if an element exists in the list. For dictionaries, it checks if a key exists in the dictionary.\n",
        "\n",
        "15. Can you modify the elements of a tuple? Explain why or why not.\n",
        "-> No, you cannot modify the elements of a tuple because tuples are immutable.\n",
        "\n",
        "16. What is a nested dictionary, and give an example of its use case\n",
        "-> A nested dictionary is a dictionary where some values are also dictionaries. Example use case: storing information about students where each student has their own dictionary containing details like name, age, and grades.\n",
        "\n",
        "17. Describe the time complexity of accessing elements in a dictionary.\n",
        "-> The average time complexity for accessing elements in a dictionary is O(1) due to the use of hash tables.\n",
        "\n",
        "18. In what situations are lists preferred over dictionaries?\n",
        "-> Lists are preferred when you need an ordered collection of elements or when you need to perform operations like slicing or iterating over elements in order.\n",
        "\n",
        "19. Why are dictionaries considered unordered, and how does that affect data retrieval?\n",
        "-> Dictionaries are considered unordered because they do not maintain any order for their key-value pairs. This means that the order of items when iterating over a dictionary may not match the order in which they were added.\n",
        "\n",
        "20. Explain the difference between a list and a dictionary in terms of data retrieval.\n",
        "-> In lists, data retrieval is based on index positions, while in dictionaries, it is based on keys."
      ],
      "metadata": {
        "id": "95wEDA46Svnr"
      }
    },
    {
      "cell_type": "markdown",
      "source": [
        "#Practical Questions"
      ],
      "metadata": {
        "id": "jpgXBYdJWvD6"
      }
    },
    {
      "cell_type": "markdown",
      "source": [
        "1. Write a code to create a string with your name and print it"
      ],
      "metadata": {
        "id": "fY8DjDfyW1wo"
      }
    },
    {
      "cell_type": "code",
      "source": [
        "name = \"Your Name\"\n",
        "print(name)\n"
      ],
      "metadata": {
        "colab": {
          "base_uri": "https://localhost:8080/"
        },
        "id": "Dk4gqI4SXNIv",
        "outputId": "1fdede09-e96b-4607-f97d-75e9347b1aee"
      },
      "execution_count": 2,
      "outputs": [
        {
          "output_type": "stream",
          "name": "stdout",
          "text": [
            "Your Name\n"
          ]
        }
      ]
    },
    {
      "cell_type": "markdown",
      "source": [
        "2. Write a code to find the length of the string \"Hello World\"."
      ],
      "metadata": {
        "id": "PtZyd1DfXQrt"
      }
    },
    {
      "cell_type": "code",
      "source": [
        "string = \"Hello World\"\n",
        "print(len(string))\n"
      ],
      "metadata": {
        "colab": {
          "base_uri": "https://localhost:8080/"
        },
        "id": "Zcr7SytbXOHF",
        "outputId": "e72ac59a-2cab-4075-b72b-c45880a2f880"
      },
      "execution_count": 4,
      "outputs": [
        {
          "output_type": "stream",
          "name": "stdout",
          "text": [
            "11\n"
          ]
        }
      ]
    },
    {
      "cell_type": "markdown",
      "source": [
        "3. Write a code to slice the first 3 characters from the string \"Python Programming\"."
      ],
      "metadata": {
        "id": "cwhoIpt1XtYN"
      }
    },
    {
      "cell_type": "code",
      "source": [
        "string = \"Python Programming\"\n",
        "print(string[:3])\n"
      ],
      "metadata": {
        "colab": {
          "base_uri": "https://localhost:8080/"
        },
        "id": "m1z8FpA-XrN7",
        "outputId": "c0449434-025b-48cb-b95d-09e9f44b3b8d"
      },
      "execution_count": 5,
      "outputs": [
        {
          "output_type": "stream",
          "name": "stdout",
          "text": [
            "Pyt\n"
          ]
        }
      ]
    },
    {
      "cell_type": "markdown",
      "source": [
        "4. Write a code to convert the string \"hello\" to uppercase."
      ],
      "metadata": {
        "id": "6xcjpO7IX4CP"
      }
    },
    {
      "cell_type": "code",
      "source": [
        "string = \"hello\"\n",
        "print(string.upper())\n"
      ],
      "metadata": {
        "colab": {
          "base_uri": "https://localhost:8080/"
        },
        "id": "iPXT7rcBX2JK",
        "outputId": "ec446f93-0333-463d-de95-c08ca466ba10"
      },
      "execution_count": 6,
      "outputs": [
        {
          "output_type": "stream",
          "name": "stdout",
          "text": [
            "HELLO\n"
          ]
        }
      ]
    },
    {
      "cell_type": "markdown",
      "source": [
        "5. Write a code to replace the word \"apple\" with \"orange\" in the string \"I like apple\""
      ],
      "metadata": {
        "id": "agmGQrbYYFhs"
      }
    },
    {
      "cell_type": "code",
      "source": [
        "string = \"I like apple\"\n",
        "print(string.replace(\"apple\", \"orange\"))"
      ],
      "metadata": {
        "colab": {
          "base_uri": "https://localhost:8080/"
        },
        "id": "_Moe9y3pYCSu",
        "outputId": "8ce64b23-f2f2-4550-f561-bd6bb00742a1"
      },
      "execution_count": 9,
      "outputs": [
        {
          "output_type": "stream",
          "name": "stdout",
          "text": [
            "I like orange\n"
          ]
        }
      ]
    },
    {
      "cell_type": "markdown",
      "source": [
        "6. Write a code to create a list with numbers 1 to 5 and print it."
      ],
      "metadata": {
        "id": "Gmp-KWt4YW9S"
      }
    },
    {
      "cell_type": "code",
      "source": [
        "numbers = [1, 2, 3, 4, 5]\n",
        "print(numbers)"
      ],
      "metadata": {
        "colab": {
          "base_uri": "https://localhost:8080/"
        },
        "id": "EblzUjoYYSSc",
        "outputId": "9c8c914f-ae2e-48bc-8e3e-b204b12af54f"
      },
      "execution_count": 11,
      "outputs": [
        {
          "output_type": "stream",
          "name": "stdout",
          "text": [
            "[1, 2, 3, 4, 5]\n"
          ]
        }
      ]
    },
    {
      "cell_type": "markdown",
      "source": [
        "7. Write a code to append the number 10 to the list [1, 2, 3, 4]."
      ],
      "metadata": {
        "id": "QhNjL-WuYztB"
      }
    },
    {
      "cell_type": "code",
      "source": [
        "numbers = [1, 2, 3, 4]\n",
        "numbers.append(10)\n",
        "print(numbers)\n"
      ],
      "metadata": {
        "colab": {
          "base_uri": "https://localhost:8080/"
        },
        "id": "Y0GYF_faYsu7",
        "outputId": "964eaa54-6e9f-4397-f1b9-03f34ca80bda"
      },
      "execution_count": 12,
      "outputs": [
        {
          "output_type": "stream",
          "name": "stdout",
          "text": [
            "[1, 2, 3, 4, 10]\n"
          ]
        }
      ]
    },
    {
      "cell_type": "markdown",
      "source": [
        "8. Write a code to remove the number 3 from the list [1, 2, 3, 4, 5]."
      ],
      "metadata": {
        "id": "yO_PMzz8ZBgk"
      }
    },
    {
      "cell_type": "code",
      "source": [
        "numbers = [1, 2, 3, 4, 5]\n",
        "numbers.remove(3)\n",
        "print(numbers)\n"
      ],
      "metadata": {
        "colab": {
          "base_uri": "https://localhost:8080/"
        },
        "id": "CbcM5hnVZAmq",
        "outputId": "7942f3d5-fc11-47a6-8030-3342fde0f448"
      },
      "execution_count": 13,
      "outputs": [
        {
          "output_type": "stream",
          "name": "stdout",
          "text": [
            "[1, 2, 4, 5]\n"
          ]
        }
      ]
    },
    {
      "cell_type": "markdown",
      "source": [
        "9. Write a code to access the second element in the list ['a', 'b', 'c', 'd']."
      ],
      "metadata": {
        "id": "9wNjR0PvZWLo"
      }
    },
    {
      "cell_type": "code",
      "source": [
        "letters = ['a', 'b', 'c', 'd']\n",
        "print(letters[1])\n"
      ],
      "metadata": {
        "colab": {
          "base_uri": "https://localhost:8080/"
        },
        "id": "1PmiwAZxZPCc",
        "outputId": "5a6e9a70-c8f2-4289-f70c-681bb6509bfe"
      },
      "execution_count": 14,
      "outputs": [
        {
          "output_type": "stream",
          "name": "stdout",
          "text": [
            "b\n"
          ]
        }
      ]
    },
    {
      "cell_type": "markdown",
      "source": [
        "10.  Write a code to reverse the list [10, 20, 30, 40, 50]."
      ],
      "metadata": {
        "id": "pfg1mh0EbqxD"
      }
    },
    {
      "cell_type": "code",
      "source": [
        "numbers = [10, 20, 30, 40, 50]\n",
        "numbers.reverse()\n",
        "print(numbers)"
      ],
      "metadata": {
        "colab": {
          "base_uri": "https://localhost:8080/"
        },
        "id": "L057J1tRbtpp",
        "outputId": "56d8107c-93c3-4e62-e53b-aa7c7a86d16c"
      },
      "execution_count": 23,
      "outputs": [
        {
          "output_type": "stream",
          "name": "stdout",
          "text": [
            "[50, 40, 30, 20, 10]\n"
          ]
        }
      ]
    },
    {
      "cell_type": "markdown",
      "source": [
        "11. Write a code to create a tuple with the elements 10, 20, 30 and print it."
      ],
      "metadata": {
        "id": "QyTpCzFQZifT"
      }
    },
    {
      "cell_type": "code",
      "source": [
        "my_tuple = (10, 20, 30)\n",
        "print(my_tuple)\n"
      ],
      "metadata": {
        "colab": {
          "base_uri": "https://localhost:8080/"
        },
        "id": "NzEhwoJ2ZhW1",
        "outputId": "b291fc41-d1f6-496f-e9f3-b01c915ad3e6"
      },
      "execution_count": 15,
      "outputs": [
        {
          "output_type": "stream",
          "name": "stdout",
          "text": [
            "(10, 20, 30)\n"
          ]
        }
      ]
    },
    {
      "cell_type": "markdown",
      "source": [
        "12. Write a code to access the first element of the tuple ('apple', 'banana', 'cherry')."
      ],
      "metadata": {
        "id": "fx0oXK5OZ1Yt"
      }
    },
    {
      "cell_type": "code",
      "source": [
        "fruits = ('apple', 'banana', 'cherry')\n",
        "print(fruits[0])\n"
      ],
      "metadata": {
        "colab": {
          "base_uri": "https://localhost:8080/"
        },
        "id": "wGLKQlLvZ0eg",
        "outputId": "ee99e2b4-595f-4cfc-a5b3-8e1d80bc35d9"
      },
      "execution_count": 16,
      "outputs": [
        {
          "output_type": "stream",
          "name": "stdout",
          "text": [
            "apple\n"
          ]
        }
      ]
    },
    {
      "cell_type": "markdown",
      "source": [
        "13. Write a code to count how many times the number 2 appears in the tuple (1, 2, 3, 2, 4, 2)."
      ],
      "metadata": {
        "id": "llHUwXeGZ_06"
      }
    },
    {
      "cell_type": "code",
      "source": [
        "numbers = (1, 2, 3, 2, 4, 2)\n",
        "print(numbers.count(2))\n"
      ],
      "metadata": {
        "colab": {
          "base_uri": "https://localhost:8080/"
        },
        "id": "ZVyYJ2w6Z_JE",
        "outputId": "65c31d7b-ac37-4f7e-b807-8dc757a5c0db"
      },
      "execution_count": 17,
      "outputs": [
        {
          "output_type": "stream",
          "name": "stdout",
          "text": [
            "3\n"
          ]
        }
      ]
    },
    {
      "cell_type": "markdown",
      "source": [
        "14. Write a code to find the index of the element \"cat\" in the tuple ('dog', 'cat', 'rabbit')."
      ],
      "metadata": {
        "id": "I3D26vBiaITP"
      }
    },
    {
      "cell_type": "code",
      "source": [
        "animals = ('dog', 'cat', 'rabbit')\n",
        "print(animals.index('cat'))\n"
      ],
      "metadata": {
        "colab": {
          "base_uri": "https://localhost:8080/"
        },
        "id": "q2nhbGEdaHmq",
        "outputId": "96fbb0be-1e58-4346-912c-039f314ec879"
      },
      "execution_count": 18,
      "outputs": [
        {
          "output_type": "stream",
          "name": "stdout",
          "text": [
            "1\n"
          ]
        }
      ]
    },
    {
      "cell_type": "markdown",
      "source": [
        "15. Write a code to check if the element \"banana\" is in the tuple ('apple', 'orange', 'banana').\n"
      ],
      "metadata": {
        "id": "8wYOzOS3aUJ5"
      }
    },
    {
      "cell_type": "code",
      "source": [
        "fruits = ('apple', 'orange', 'banana')\n",
        "print('banana' in fruits)\n"
      ],
      "metadata": {
        "colab": {
          "base_uri": "https://localhost:8080/"
        },
        "id": "zWu8t3LsaRVR",
        "outputId": "415e658a-70af-4b1c-d6f4-105501d6f473"
      },
      "execution_count": 19,
      "outputs": [
        {
          "output_type": "stream",
          "name": "stdout",
          "text": [
            "True\n"
          ]
        }
      ]
    },
    {
      "cell_type": "markdown",
      "source": [
        "16. Write a code to create a set with the elements 1, 2, 3, 4, 5 and print it."
      ],
      "metadata": {
        "id": "RpduWS0PajFk"
      }
    },
    {
      "cell_type": "code",
      "source": [
        "my_set = {1, 2, 3, 4, 5}\n",
        "print(my_set)\n"
      ],
      "metadata": {
        "colab": {
          "base_uri": "https://localhost:8080/"
        },
        "id": "NLHvLU2FagB_",
        "outputId": "8589a37b-4db3-428f-b7bd-7d9940a0db6a"
      },
      "execution_count": 20,
      "outputs": [
        {
          "output_type": "stream",
          "name": "stdout",
          "text": [
            "{1, 2, 3, 4, 5}\n"
          ]
        }
      ]
    },
    {
      "cell_type": "markdown",
      "source": [
        "17. Write a code to add the element 6 to the set {1, 2, 3, 4}."
      ],
      "metadata": {
        "id": "8zvglzC7atOw"
      }
    },
    {
      "cell_type": "code",
      "source": [
        "my_set = {1, 2, 3, 4}\n",
        "my_set.add(6)\n",
        "print(my_set)"
      ],
      "metadata": {
        "colab": {
          "base_uri": "https://localhost:8080/"
        },
        "id": "XZzJOOwTasYP",
        "outputId": "548b8db9-5368-4197-c2e6-eef4093e72df"
      },
      "execution_count": 22,
      "outputs": [
        {
          "output_type": "stream",
          "name": "stdout",
          "text": [
            "{1, 2, 3, 4, 6}\n"
          ]
        }
      ]
    },
    {
      "cell_type": "markdown",
      "source": [
        "18. Write a code to create a tuple with the elements 10, 20, 30 and print it."
      ],
      "metadata": {
        "id": "NfZixVxba9rP"
      }
    },
    {
      "cell_type": "code",
      "source": [
        "my_tuple = (10, 20, 30)\n",
        "print(my_tuple)\n"
      ],
      "metadata": {
        "colab": {
          "base_uri": "https://localhost:8080/"
        },
        "id": "jzsDjmFSa6K8",
        "outputId": "7a9da701-11b2-4fbc-99b5-cbaafa1e46cc"
      },
      "execution_count": 24,
      "outputs": [
        {
          "output_type": "stream",
          "name": "stdout",
          "text": [
            "(10, 20, 30)\n"
          ]
        }
      ]
    },
    {
      "cell_type": "markdown",
      "source": [
        "19. Write a code to access the first element of the tuple ('apple', 'banana', 'cherry')."
      ],
      "metadata": {
        "id": "tgUHG19YdLEk"
      }
    },
    {
      "cell_type": "code",
      "source": [
        "fruits = ('apple', 'banana', 'cherry')\n",
        "print(fruits[0])\n"
      ],
      "metadata": {
        "colab": {
          "base_uri": "https://localhost:8080/"
        },
        "id": "6NUHiwu0dKY-",
        "outputId": "2434811e-f527-4f27-d192-11fc0dd40b35"
      },
      "execution_count": 25,
      "outputs": [
        {
          "output_type": "stream",
          "name": "stdout",
          "text": [
            "apple\n"
          ]
        }
      ]
    },
    {
      "cell_type": "markdown",
      "source": [
        "20. Write a code to count how many times the number 2 appears in the tuple (1, 2, 3, 2, 4, 2)."
      ],
      "metadata": {
        "id": "LM6fyK1OdWA_"
      }
    },
    {
      "cell_type": "code",
      "source": [
        "numbers = (1, 2, 3, 2, 4, 2)\n",
        "print(numbers.count(2))\n"
      ],
      "metadata": {
        "id": "XUDlVtTjdVUI"
      },
      "execution_count": null,
      "outputs": []
    },
    {
      "cell_type": "markdown",
      "source": [
        "21. Write a code to find the index of the element \"cat\" in the tuple ('dog', 'cat', 'rabbit')."
      ],
      "metadata": {
        "id": "EwfvZuFQdh02"
      }
    },
    {
      "cell_type": "code",
      "source": [
        "('dog', 'cat', 'rabbit')\n",
        "print(animals.index('cat'))\n"
      ],
      "metadata": {
        "colab": {
          "base_uri": "https://localhost:8080/"
        },
        "id": "_SG3rtz3dmpn",
        "outputId": "01c813ad-8655-49ce-f5cd-5dd538c437e2"
      },
      "execution_count": 26,
      "outputs": [
        {
          "output_type": "stream",
          "name": "stdout",
          "text": [
            "1\n"
          ]
        }
      ]
    },
    {
      "cell_type": "markdown",
      "source": [
        "22. Write a code to check if the element \"banana\" is in the tuple ('apple', 'orange', 'banana')"
      ],
      "metadata": {
        "id": "WBjbZ2LSds_e"
      }
    },
    {
      "cell_type": "code",
      "source": [
        "fruits = ('apple', 'orange', 'banana')\n",
        "print('banana' in fruits)\n"
      ],
      "metadata": {
        "colab": {
          "base_uri": "https://localhost:8080/"
        },
        "id": "afA-BXWmdqmh",
        "outputId": "f9c38895-ac5d-4d06-fdf5-285ca2d490a4"
      },
      "execution_count": 27,
      "outputs": [
        {
          "output_type": "stream",
          "name": "stdout",
          "text": [
            "True\n"
          ]
        }
      ]
    },
    {
      "cell_type": "markdown",
      "source": [
        "23. Write a code to create a set with the elements 1, 2, 3, 4, 5 and print it."
      ],
      "metadata": {
        "id": "P4R9vI4Zd7q1"
      }
    },
    {
      "cell_type": "code",
      "source": [
        "my_set = {1, 2, 3, 4, 5}\n",
        "print(my_set)\n"
      ],
      "metadata": {
        "id": "bwFD_KIqd6sV"
      },
      "execution_count": null,
      "outputs": []
    },
    {
      "cell_type": "markdown",
      "source": [
        "24. Write a code to add the element 6 to the set {1, 2, 3, 4}."
      ],
      "metadata": {
        "id": "9_-aLc1JeFXc"
      }
    },
    {
      "cell_type": "code",
      "source": [
        "my_set = {1, 2, 3, 4}\n",
        "my_set.add(6)\n",
        "print(my_set)"
      ],
      "metadata": {
        "colab": {
          "base_uri": "https://localhost:8080/"
        },
        "id": "nbdbEGFfeNND",
        "outputId": "87a1675e-7f99-48d8-84fd-81f9d61c1794"
      },
      "execution_count": 29,
      "outputs": [
        {
          "output_type": "stream",
          "name": "stdout",
          "text": [
            "{1, 2, 3, 4, 6}\n"
          ]
        }
      ]
    }
  ]
}