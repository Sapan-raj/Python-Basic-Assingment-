{
  "nbformat": 4,
  "nbformat_minor": 0,
  "metadata": {
    "colab": {
      "provenance": []
    },
    "kernelspec": {
      "name": "python3",
      "display_name": "Python 3"
    },
    "language_info": {
      "name": "python"
    }
  },
  "cells": [
    {
      "cell_type": "markdown",
      "source": [],
      "metadata": {
        "id": "lGdAczrVrokq"
      }
    },
    {
      "cell_type": "markdown",
      "source": [
        "#Python Basics"
      ],
      "metadata": {
        "id": "tTSKOANGru38"
      }
    },
    {
      "cell_type": "markdown",
      "source": [],
      "metadata": {
        "id": "0OvkK1AgrYr6"
      }
    },
    {
      "cell_type": "markdown",
      "source": [
        "1. What is Python, and why is it popular?\n",
        "-> Python is a user-friendly programming language that's easy to read and write. It's popular because you can use it for many different tasks, it has lots of helpful tools (libraries), and there's a big community of people who use and support it.\n",
        "2. What is an interpreter in Python?\n",
        "-> A Python interpreter runs your code one line at a time, translating it into machine code that the computer can understand. This makes it easier to find and fix errors as you write your code.\n",
        "3. What are pre-defined keywords in Python?\n",
        "-> Pre-defined keywords in Python are reserved words that have special meanings and cannot be used as variable names. Examples include if, else, while, for, def, etc.\n",
        "4. Can keywords be used as variable names?\n",
        "-> No, keywords cannot be used as variable names in Python.\n",
        "5. What is mutability in Python?\n",
        "-> Mutability refers to the ability of an object to be changed after it is created. In Python, lists are mutable, while tuples are immutable.\n",
        "6. Why are lists mutable, but tuples are immutable?\n",
        "-> Lists are mutable because they allow modification of their elements, while tuples are immutable because they are designed to be constant and unchangeable.\n",
        "7. What is the difference between “==” and “is” operators in Python?\n",
        "-> The == operator checks for value equality, while the \"is\" operator checks for identity (whether two references point to the same object).\n",
        "8. What are logical operators in Python?\n",
        "-> Logical operators in Python include and, or, and not, which are used to combine conditional statements.\n",
        "9. What is type casting in Python?\n",
        "-> Type casting is the process of converting one data type to another. It can be implicit or explicit.\n",
        "10. What is the difference between implicit and explicit type casting?\n",
        "-> Implicit type casting is done automatically by Python, while explicit type casting is done manually by the programmer using functions like int(), float(), etc.\n",
        "11. What is the purpose of conditional statements in Python?\n",
        "-> Conditional statements are used to execute code based on certain conditions. They include if, elif, and else.\n",
        "12. How does the elif statement work?\n",
        "-> The elif statement allows for multiple conditions to be checked in sequence, executing the corresponding block of code for the first true condition.\n",
        "13. What is the difference between for and while loops?\n",
        "-> A for loop iterates over a sequence (like a list or range), while a while loop continues to execute as long as a condition is true.\n",
        "14. Describe a scenario where a while loop is more suitable than a for loop.\n",
        "-> A while loop is more suitable when the number of iterations is not known beforehand and depends on a condition being met."
      ],
      "metadata": {
        "id": "CsqxfJ-9rySf"
      }
    },
    {
      "cell_type": "markdown",
      "source": [
        "#Practical Questions"
      ],
      "metadata": {
        "id": "ab7cw68ZALta"
      }
    },
    {
      "cell_type": "markdown",
      "source": [
        "1. Write a Python program to print \"Hello, World!\""
      ],
      "metadata": {
        "id": "S2FhjfiFASDD"
      }
    },
    {
      "cell_type": "code",
      "source": [
        "print(\"Hello, World!\")"
      ],
      "metadata": {
        "colab": {
          "base_uri": "https://localhost:8080/"
        },
        "id": "YGE32EFQAV3A",
        "outputId": "9f23514e-1a93-4ce9-8cf8-7df6d3e03ee0"
      },
      "execution_count": 31,
      "outputs": [
        {
          "output_type": "stream",
          "name": "stdout",
          "text": [
            "Hello, World!\n"
          ]
        }
      ]
    },
    {
      "cell_type": "markdown",
      "source": [
        "2. Write a Python program that displays your name and age."
      ],
      "metadata": {
        "id": "t_kY8uPlAZxV"
      }
    },
    {
      "cell_type": "code",
      "source": [
        "name = \"Sapan Raj\"\n",
        "age = 25\n",
        "print(f\"My name is {name} and I am {age} years old.\")\n"
      ],
      "metadata": {
        "colab": {
          "base_uri": "https://localhost:8080/"
        },
        "id": "-m1KgXf1AiwO",
        "outputId": "5995b320-a47a-4475-9240-278f622353bc"
      },
      "execution_count": 32,
      "outputs": [
        {
          "output_type": "stream",
          "name": "stdout",
          "text": [
            "My name is Sapan Raj and I am 25 years old.\n"
          ]
        }
      ]
    },
    {
      "cell_type": "markdown",
      "source": [
        "3. Write code to print all the pre-defined keywords in Python using the keyword library."
      ],
      "metadata": {
        "id": "r5nRF-ZCAquk"
      }
    },
    {
      "cell_type": "code",
      "source": [
        "import keyword\n",
        "print(keyword.kwlist)\n"
      ],
      "metadata": {
        "colab": {
          "base_uri": "https://localhost:8080/"
        },
        "id": "s1NZG4l4Atcv",
        "outputId": "1aac0ebe-b5d1-4f7e-a96f-6a4f813dcdd5"
      },
      "execution_count": 33,
      "outputs": [
        {
          "output_type": "stream",
          "name": "stdout",
          "text": [
            "['False', 'None', 'True', 'and', 'as', 'assert', 'async', 'await', 'break', 'class', 'continue', 'def', 'del', 'elif', 'else', 'except', 'finally', 'for', 'from', 'global', 'if', 'import', 'in', 'is', 'lambda', 'nonlocal', 'not', 'or', 'pass', 'raise', 'return', 'try', 'while', 'with', 'yield']\n"
          ]
        }
      ]
    },
    {
      "cell_type": "markdown",
      "source": [
        "4. Write a program that checks if a given word is a Python keyword."
      ],
      "metadata": {
        "id": "LZfjJFuqA5Zf"
      }
    },
    {
      "cell_type": "code",
      "source": [
        "import keyword\n",
        "word = \"True\"\n",
        "if keyword.iskeyword(word):\n",
        "    print(f\"{word} is a Python keyword.\")\n",
        "else:\n",
        "    print(f\"{word} is not a Python keyword.\")\n"
      ],
      "metadata": {
        "colab": {
          "base_uri": "https://localhost:8080/"
        },
        "id": "r6yBv5P6A9cE",
        "outputId": "7124564f-07f5-4b88-bf4c-b5f10036020b"
      },
      "execution_count": 34,
      "outputs": [
        {
          "output_type": "stream",
          "name": "stdout",
          "text": [
            "True is a Python keyword.\n"
          ]
        }
      ]
    },
    {
      "cell_type": "markdown",
      "source": [
        "5. Create a list and tuple in Python, and demonstrate how attempting to change an element works differently for each."
      ],
      "metadata": {
        "id": "WwscDGhqBJ0f"
      }
    },
    {
      "cell_type": "code",
      "source": [
        "my_list = [1, 2, 3]\n",
        "my_tuple = (1, 2, 3)\n",
        "\n",
        "# Modifying list\n",
        "my_list[0] = 10\n",
        "print(\"Modified list:\", my_list)\n",
        "\n",
        "# Attempting to modify tuple\n",
        "try:\n",
        "    my_tuple[0] = 10\n",
        "except TypeError as e:\n",
        "    print(\"Error:\", e)\n"
      ],
      "metadata": {
        "colab": {
          "base_uri": "https://localhost:8080/"
        },
        "id": "yHiySU0wBQWq",
        "outputId": "511a0261-54c0-456f-d41b-8ffb8c148dc7"
      },
      "execution_count": 35,
      "outputs": [
        {
          "output_type": "stream",
          "name": "stdout",
          "text": [
            "Modified list: [10, 2, 3]\n",
            "Error: 'tuple' object does not support item assignment\n"
          ]
        }
      ]
    },
    {
      "cell_type": "markdown",
      "source": [
        "6&7. Write a function to demonstrate the behavior of mutable and immutable arguments."
      ],
      "metadata": {
        "id": "h4B9HPb1BnDh"
      }
    },
    {
      "cell_type": "code",
      "source": [
        "def modify_immutable(x):\n",
        "    x += 1\n",
        "    print(\"Inside modify_immutable:\", x)\n",
        "\n",
        "def modify_mutable(lst):\n",
        "    lst.append(4)\n",
        "    print(\"Inside modify_mutable:\", lst)\n",
        "\n",
        "# Immutable argument\n",
        "a = 10\n",
        "modify_immutable(a)\n",
        "print(\"Outside modify_immutable:\", a)\n",
        "\n",
        "# Mutable argument\n",
        "b = [1, 2, 3]\n",
        "modify_mutable(b)\n",
        "print(\"Outside modify_mutable:\", b)\n",
        "'''Immutable argument:\n",
        "  The integer a is passed to modify_immutable. Changes inside the function do not affect the original value of a.\n",
        "Mutable argument:\n",
        "  The list b is passed to modify_mutable. Changes inside the function affect the original list b.'''\n"
      ],
      "metadata": {
        "colab": {
          "base_uri": "https://localhost:8080/",
          "height": 122
        },
        "id": "E-UyyRPpBtZn",
        "outputId": "a466c52d-562b-4b8c-8587-e211b207ef8a"
      },
      "execution_count": 36,
      "outputs": [
        {
          "output_type": "stream",
          "name": "stdout",
          "text": [
            "Inside modify_immutable: 11\n",
            "Outside modify_immutable: 10\n",
            "Inside modify_mutable: [1, 2, 3, 4]\n",
            "Outside modify_mutable: [1, 2, 3, 4]\n"
          ]
        },
        {
          "output_type": "execute_result",
          "data": {
            "text/plain": [
              "'Immutable argument:\\n  The integer a is passed to modify_immutable. Changes inside the function do not affect the original value of a.\\nMutable argument: \\n  The list b is passed to modify_mutable. Changes inside the function affect the original list b.'"
            ],
            "application/vnd.google.colaboratory.intrinsic+json": {
              "type": "string"
            }
          },
          "metadata": {},
          "execution_count": 36
        }
      ]
    },
    {
      "cell_type": "markdown",
      "source": [
        "8. Write a program to demonstrate the use of logical operators."
      ],
      "metadata": {
        "id": "TScJppTUDMK0"
      }
    },
    {
      "cell_type": "code",
      "source": [
        "a = True\n",
        "b = False\n",
        "print(\"a and b:\", a and b)\n",
        "print(\"a or b:\", a or b)\n",
        "print(\"not a:\", not a)\n"
      ],
      "metadata": {
        "colab": {
          "base_uri": "https://localhost:8080/"
        },
        "id": "yDKgE0HaB7x2",
        "outputId": "cd2821df-a793-4c87-a5c8-f3e4788dbd01"
      },
      "execution_count": 37,
      "outputs": [
        {
          "output_type": "stream",
          "name": "stdout",
          "text": [
            "a and b: False\n",
            "a or b: True\n",
            "not a: False\n"
          ]
        }
      ]
    },
    {
      "cell_type": "markdown",
      "source": [
        "9. Write a Python program to convert user input from string to integer, float, and boolean types."
      ],
      "metadata": {
        "id": "55m3poXbDf_0"
      }
    },
    {
      "cell_type": "code",
      "source": [
        "user_input = input(\"Enter a value: \")\n",
        "int_value = int(user_input)\n",
        "float_value = float(user_input)\n",
        "bool_value = bool(user_input)\n",
        "print(\"Integer:\", int_value)\n",
        "print(\"Float:\", float_value)\n",
        "print(\"Boolean:\", bool_value)\n"
      ],
      "metadata": {
        "colab": {
          "base_uri": "https://localhost:8080/"
        },
        "id": "Ihu-ySwTDTPi",
        "outputId": "a85525c4-4d68-429c-d660-1dd090277c60"
      },
      "execution_count": 38,
      "outputs": [
        {
          "output_type": "stream",
          "name": "stdout",
          "text": [
            "Enter a value: 25\n",
            "Integer: 25\n",
            "Float: 25.0\n",
            "Boolean: True\n"
          ]
        }
      ]
    },
    {
      "cell_type": "markdown",
      "source": [
        "10. Write code to demonstrate type casting with list elements."
      ],
      "metadata": {
        "id": "TkwPwZxwDzsw"
      }
    },
    {
      "cell_type": "code",
      "source": [
        "my_list = [\"1\", \"2\", \"3\"]\n",
        "int_list = [int(i) for i in my_list]\n",
        "print(\"Integer list:\", int_list)\n"
      ],
      "metadata": {
        "colab": {
          "base_uri": "https://localhost:8080/"
        },
        "id": "4pcPGpG2DlY9",
        "outputId": "848a03dd-2310-4604-fc54-c20ebd04f873"
      },
      "execution_count": 39,
      "outputs": [
        {
          "output_type": "stream",
          "name": "stdout",
          "text": [
            "Integer list: [1, 2, 3]\n"
          ]
        }
      ]
    },
    {
      "cell_type": "markdown",
      "source": [
        "11. Write a program that checks if a number is positive, negative, or zero."
      ],
      "metadata": {
        "id": "_MMrRN8TELgG"
      }
    },
    {
      "cell_type": "code",
      "source": [
        "num = float(input(\"Enter a number: \"))\n",
        "if num > 0:\n",
        "    print(\"Positive\")\n",
        "elif num < 0:\n",
        "    print(\"Negative\")\n",
        "else:\n",
        "    print(\"Zero\")\n"
      ],
      "metadata": {
        "colab": {
          "base_uri": "https://localhost:8080/"
        },
        "id": "76UKmqq-D4LQ",
        "outputId": "82143948-ab8e-45db-9aff-dc6bdb4dca9c"
      },
      "execution_count": 30,
      "outputs": [
        {
          "output_type": "stream",
          "name": "stdout",
          "text": [
            "Enter a number: 25\n",
            "Positive\n"
          ]
        }
      ]
    },
    {
      "cell_type": "markdown",
      "source": [
        "12. Write a for loop to print numbers from 1 to 10."
      ],
      "metadata": {
        "id": "5eS6pfkwEoCY"
      }
    },
    {
      "cell_type": "code",
      "source": [
        "for i in range(1, 11):\n",
        "    print(i)\n"
      ],
      "metadata": {
        "colab": {
          "base_uri": "https://localhost:8080/"
        },
        "id": "S1P2qDziEQIM",
        "outputId": "c91db866-5557-43ea-d3b7-30a6acf3691a"
      },
      "execution_count": 26,
      "outputs": [
        {
          "output_type": "stream",
          "name": "stdout",
          "text": [
            "1\n",
            "2\n",
            "3\n",
            "4\n",
            "5\n",
            "6\n",
            "7\n",
            "8\n",
            "9\n",
            "10\n"
          ]
        }
      ]
    },
    {
      "cell_type": "markdown",
      "source": [
        "13. Write a Python program to find the sum of all even numbers between 1 and 50."
      ],
      "metadata": {
        "id": "bhsolDd7E1bq"
      }
    },
    {
      "cell_type": "code",
      "source": [
        "total = 0\n",
        "for i in range(1, 41):\n",
        "    if i % 2 == 0:\n",
        "        total += i\n",
        "print(\"Sum of even numbers:\", total)\n"
      ],
      "metadata": {
        "colab": {
          "base_uri": "https://localhost:8080/"
        },
        "id": "N-NSscZ5ExNK",
        "outputId": "bd2c8b2a-8790-4539-a226-f2918a980f42"
      },
      "execution_count": 21,
      "outputs": [
        {
          "output_type": "stream",
          "name": "stdout",
          "text": [
            "Sum of even numbers: 420\n"
          ]
        }
      ]
    },
    {
      "cell_type": "markdown",
      "source": [
        "14. Write a program to reverse a string using a while loop."
      ],
      "metadata": {
        "id": "b-UY459nE8_F"
      }
    },
    {
      "cell_type": "code",
      "source": [
        "s = \"River\"\n",
        "reversed_s = \"\"\n",
        "index = len(s) - 1\n",
        "while index >= 0:\n",
        "    reversed_s += s[index]\n",
        "    index -= 1\n",
        "print(\"Reversed string:\", reversed_s)\n"
      ],
      "metadata": {
        "colab": {
          "base_uri": "https://localhost:8080/"
        },
        "id": "cMUTlaDyE7nz",
        "outputId": "6d376608-bd4b-4986-ddbd-2a4e36e62e8a"
      },
      "execution_count": 25,
      "outputs": [
        {
          "output_type": "stream",
          "name": "stdout",
          "text": [
            "Reversed string: reviR\n"
          ]
        }
      ]
    },
    {
      "cell_type": "markdown",
      "source": [
        "15. Write a Python program to calculate the factorial of a number provided by the user using a while loop"
      ],
      "metadata": {
        "id": "fEVBmaBeFgc0"
      }
    },
    {
      "cell_type": "code",
      "source": [
        "# Get input from the user\n",
        "number = int(input(\"Enter a number: \"))\n",
        "\n",
        "# Initialize the factorial variable\n",
        "factorial = 1\n",
        "\n",
        "# Calculate the factorial using a while loop\n",
        "while number > 0:\n",
        "    factorial *= number\n",
        "    number -= 1\n",
        "\n",
        "# Print the result\n",
        "print(f\"The factorial is {factorial}\")"
      ],
      "metadata": {
        "colab": {
          "base_uri": "https://localhost:8080/"
        },
        "id": "kLt0MYNkFSgt",
        "outputId": "1ab5408f-70ec-470e-d129-bab38e557e16"
      },
      "execution_count": 28,
      "outputs": [
        {
          "output_type": "stream",
          "name": "stdout",
          "text": [
            "Enter a number: 25\n",
            "The factorial is 15511210043330985984000000\n"
          ]
        }
      ]
    }
  ]
}